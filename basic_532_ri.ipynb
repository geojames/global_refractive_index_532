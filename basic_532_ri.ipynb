{
  "nbformat": 4,
  "nbformat_minor": 0,
  "metadata": {
    "colab": {
      "provenance": [],
      "authorship_tag": "ABX9TyPkfdcQ6Hn3LJEE/fQBZ87e",
      "include_colab_link": true
    },
    "kernelspec": {
      "name": "python3",
      "display_name": "Python 3"
    },
    "language_info": {
      "name": "python"
    }
  },
  "cells": [
    {
      "cell_type": "markdown",
      "metadata": {
        "id": "view-in-github",
        "colab_type": "text"
      },
      "source": [
        "<a href=\"https://colab.research.google.com/github/geojames/global_refractive_index_532/blob/sdb_ri/basic_532_ri.ipynb\" target=\"_parent\"><img src=\"https://colab.research.google.com/assets/colab-badge.svg\" alt=\"Open In Colab\"/></a>"
      ]
    },
    {
      "cell_type": "code",
      "execution_count": null,
      "metadata": {
        "id": "LN0bvsqew0Z2"
      },
      "outputs": [],
      "source": [
        "!pip install rasterio netCDF4 cmcrameri copernicusmarine"
      ]
    },
    {
      "cell_type": "code",
      "source": [
        "from google.colab import drive\n",
        "drive.mount('/content/drive')"
      ],
      "metadata": {
        "id": "0lxh6eNS7q_M"
      },
      "execution_count": null,
      "outputs": []
    },
    {
      "cell_type": "code",
      "source": [
        "import copernicusmarine\n",
        "from matplotlib import pyplot as plt"
      ],
      "metadata": {
        "id": "B8FnbTyL4BZg"
      },
      "execution_count": null,
      "outputs": []
    },
    {
      "cell_type": "code",
      "source": [
        "def quan_ri(wl,S,T):\n",
        "\n",
        "    ri = (1.31405 + ( 0.0001779 + -0.00000105 * T + 0.000000016 * T**2 ) *\n",
        "          S + -0.00000202 * T**2 + (( 15.868 + 0.01155*S + -0.00423 *T)/wl) +\n",
        "          (-4382/wl**2) + (1145500/wl**3))\n",
        "\n",
        "    return ri\n",
        "\n",
        "armor = copernicusmarine.open_dataset(\n",
        "  dataset_id=\"dataset-armor-3d-nrt-weekly\",\n",
        "  minimum_longitude=-82.26441415421456,\n",
        "  maximum_longitude=-76.58058029628636,\n",
        "  minimum_latitude=23.643377156538964,\n",
        "  maximum_latitude=27.665782655995837,\n",
        "  start_datetime=\"2024-09-01T00:00:00\",\n",
        "  end_datetime=\"2024-09-01T00:00:00\",\n",
        "  minimum_depth=0,\n",
        "  maximum_depth=0,\n",
        ")\n",
        "\n",
        "#plt.pcolor(armor.so.data[0,0,:,:])\n",
        "\n",
        "wl = 532\n",
        "ri = quan_ri(wl, armor.so.data[0,0,:,:], armor.to.data[0,0,:,:])\n",
        "\n",
        "plt.pcolor(ri)"
      ],
      "metadata": {
        "id": "MpcN7a664hEU"
      },
      "execution_count": null,
      "outputs": []
    },
    {
      "cell_type": "code",
      "source": [
        "from cmcrameri import cm\n",
        "plt.pcolor(ri, cmap = cm.roma)"
      ],
      "metadata": {
        "id": "yyPewvFQ44dw"
      },
      "execution_count": null,
      "outputs": []
    },
    {
      "cell_type": "code",
      "source": [],
      "metadata": {
        "id": "dkKNQJz-qdU0"
      },
      "execution_count": null,
      "outputs": []
    }
  ]
}